{
  "nbformat": 4,
  "nbformat_minor": 0,
  "metadata": {
    "colab": {
      "provenance": []
    },
    "kernelspec": {
      "name": "python3",
      "display_name": "Python 3"
    },
    "language_info": {
      "name": "python"
    }
  },
  "cells": [
    {
      "cell_type": "code",
      "execution_count": null,
      "metadata": {
        "id": "otD4HDqzirbX"
      },
      "outputs": [],
      "source": [
        "#!pip install git+https://github.com/openai/whisper.git\n",
        "#!pip install ffmpeg-python\n",
        "#!pip install tempfile"
      ]
    },
    {
      "cell_type": "code",
      "source": [
        "import tempfile\n",
        "import whisper\n",
        "import os\n",
        "import urllib"
      ],
      "metadata": {
        "id": "zmDVq-9Wi7Af"
      },
      "execution_count": null,
      "outputs": []
    },
    {
      "cell_type": "code",
      "source": [
        "# Create a temporary directory to store the downloaded MP4 file\n",
        "temp_dir = tempfile.TemporaryDirectory()\n",
        "\n",
        "# shorter (4 min) video from industry archives\n",
        "url = \"https://archive.org/download/tobacco_wbr62a00/tobacco_wbr62a00.mp4\"\n",
        "\n",
        "source_file_name = url.split('/')[-1]\n",
        "urllib.request.urlretrieve(url, source_file_name)\n",
        "\n",
        "source_file = os.path.join(source_file_name)"
      ],
      "metadata": {
        "id": "bcIdynKIjkoF"
      },
      "execution_count": null,
      "outputs": []
    },
    {
      "cell_type": "code",
      "source": [
        "tiny_model = whisper.load_model(\"tiny\")\n",
        "#base_model = whisper.load_model(\"base\")\n",
        "#small_model = whisper.load_model(\"small\")\n",
        "#medium_model = whisper.load_model(\"medium\")\n",
        "#large_model = whisper.load_model(\"large\")"
      ],
      "metadata": {
        "id": "Sklp-FNljsJP"
      },
      "execution_count": null,
      "outputs": []
    },
    {
      "cell_type": "code",
      "source": [
        "%%time\n",
        "tiny_result = tiny_model.transcribe(source_file)\n",
        "tiny_text = tiny_result['text']"
      ],
      "metadata": {
        "id": "4UEbLxWZkPxO"
      },
      "execution_count": null,
      "outputs": []
    },
    {
      "cell_type": "code",
      "source": [
        "tiny_text"
      ],
      "metadata": {
        "id": "QC6jfuk8kTwe"
      },
      "execution_count": null,
      "outputs": []
    },
    {
      "cell_type": "code",
      "source": [],
      "metadata": {
        "id": "SvqT6fWrmW32"
      },
      "execution_count": null,
      "outputs": []
    }
  ]
}