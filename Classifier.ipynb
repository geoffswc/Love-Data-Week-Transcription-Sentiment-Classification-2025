{
 "cells": [
  {
   "cell_type": "code",
   "execution_count": 3,
   "id": "4623ad4f",
   "metadata": {},
   "outputs": [],
   "source": [
    "#!pip install transformers"
   ]
  },
  {
   "cell_type": "code",
   "execution_count": null,
   "id": "a8143698",
   "metadata": {},
   "outputs": [],
   "source": [
    "from transformers import pipeline"
   ]
  },
  {
   "cell_type": "code",
   "execution_count": null,
   "id": "8265f55e",
   "metadata": {},
   "outputs": [],
   "source": [
    "classifier = pipeline(\"zero-shot-classification\", model=\"facebook/bart-large-mnli\")"
   ]
  },
  {
   "cell_type": "code",
   "execution_count": null,
   "id": "307e6ed0",
   "metadata": {},
   "outputs": [],
   "source": [
    "result = classifier(\"The company launched a new marketing campaign\", candidate_labels=[\"marketing\", \"legal\", \"sports\"])"
   ]
  },
  {
   "cell_type": "code",
   "execution_count": null,
   "id": "578fb8f2",
   "metadata": {},
   "outputs": [],
   "source": [
    "print(result)"
   ]
  },
  {
   "cell_type": "code",
   "execution_count": null,
   "id": "752f6a33",
   "metadata": {},
   "outputs": [],
   "source": [
    "candidate_labels = [\"marketing\", \"legal\"]"
   ]
  },
  {
   "cell_type": "code",
   "execution_count": null,
   "id": "3b72c3e9",
   "metadata": {},
   "outputs": [],
   "source": [
    "def get_classification_probabilities(text):\n",
    "    result = classifier(text, candidate_labels)\n",
    "    probabilities = {label: score for label, score in zip(result['labels'], result['scores'])}\n",
    "    return probabilities"
   ]
  },
  {
   "cell_type": "code",
   "execution_count": 1,
   "id": "a79407ef",
   "metadata": {},
   "outputs": [
    {
     "ename": "SyntaxError",
     "evalue": "unmatched ')' (283211238.py, line 12)",
     "output_type": "error",
     "traceback": [
      "\u001b[0;36m  File \u001b[0;32m\"/var/folders/wp/8493czf93l34d7c5ky14j7pr0000gp/T/ipykernel_21818/283211238.py\"\u001b[0;36m, line \u001b[0;32m12\u001b[0m\n\u001b[0;31m    \"\"\")\u001b[0m\n\u001b[0m       ^\u001b[0m\n\u001b[0;31mSyntaxError\u001b[0m\u001b[0;31m:\u001b[0m unmatched ')'\n"
     ]
    }
   ],
   "source": [
    "text = \"\"\"\n",
    "Think smoking makes you look cool. No way. What are you looking at? Hey, Krissie! What? Think smoking makes you look cool.\n",
    "No way. What? Keep on my things, I can't know. I'm jumping now. Always telling us what to do. Or not to do. But we know what's going on.\n",
    " We listen. Like smoking. We don't know the reason it's not to. But out here comes up. That's when we meet the real decision.\n",
    " That's for us. It's not for the smoke. And that's not even the hardest decision out there, my baby. I mean, you know. So how about\n",
    " a little kind of purchase? My parents. They always think I'm not listening. I hear them. Wait a minute. You know, every day you have\n",
    " to do something. You have to deal with stuff on your own. So you want to know why I decided not to smoke. Which reason would you like?\n",
    " I don't need to smoke to prove myself. My coolness is not on trial here. I don't smoke because sometimes it's what you don't do.\n",
    " That makes you who you are. These are the kids that I've seen. They're all cool in different ways. Or a lot of like too.\n",
    " Because you know, we all deal with the same stuff. Same decisions. Like smoking. Forget it. We all came up with the same answer. Not for us. We don't have to smoke to be different. Being ourselves is enough. Hey guys. Now you ask you a couple questions? I've never tried cigarettes. So what? I don't know. I just never wanted to know. Really? Yeah. Someone fresh harder to whatever somebody have a pack at the school. You know, they smoke you know what I mean. And do you think they try to get other people doing it? Yeah. Yeah. But that's dumb though. You see what I'm saying? I mean, the reason I just don't know. They're not dumb, but. That's the reason it's the only thing. I'm not stupid. You're not stupid. Take it easy. Hey you. Me? Yeah. Did you ever try cigarettes? I was 14. Any reason? Because I was trying to be closer to something. Really? Well yeah. So you tried it because other people were doing it? Yeah, I guess. And why don't you do it anymore? A lot of reasons.\n",
    "Just didn't like it, you know? I don't need a smoke to like fit in. Hold up. We finished? Yeah\n",
    "\"\"\")"
   ]
  },
  {
   "cell_type": "code",
   "execution_count": null,
   "id": "347bb097",
   "metadata": {},
   "outputs": [],
   "source": [
    "def get_classification_probabilities(text):\n"
   ]
  }
 ],
 "metadata": {
  "kernelspec": {
   "display_name": "Python 3 (ipykernel)",
   "language": "python",
   "name": "python3"
  },
  "language_info": {
   "codemirror_mode": {
    "name": "ipython",
    "version": 3
   },
   "file_extension": ".py",
   "mimetype": "text/x-python",
   "name": "python",
   "nbconvert_exporter": "python",
   "pygments_lexer": "ipython3",
   "version": "3.9.7"
  }
 },
 "nbformat": 4,
 "nbformat_minor": 5
}
