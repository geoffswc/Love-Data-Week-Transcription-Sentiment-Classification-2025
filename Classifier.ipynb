{
  "cells": [
    {
      "cell_type": "code",
      "execution_count": null,
      "id": "ecc1ecb2",
      "metadata": {
        "id": "ecc1ecb2"
      },
      "outputs": [],
      "source": [
        "#!pip install transformers"
      ]
    },
    {
      "cell_type": "code",
      "execution_count": null,
      "id": "499c553d",
      "metadata": {
        "id": "499c553d"
      },
      "outputs": [],
      "source": [
        "from transformers import pipeline"
      ]
    },
    {
      "cell_type": "code",
      "execution_count": null,
      "id": "35bf765e",
      "metadata": {
        "id": "35bf765e"
      },
      "outputs": [],
      "source": [
        "classifier = pipeline(\"zero-shot-classification\", model=\"facebook/bart-large-mnli\")"
      ]
    },
    {
      "cell_type": "code",
      "execution_count": null,
      "id": "f90d5bbb",
      "metadata": {
        "id": "f90d5bbb"
      },
      "outputs": [],
      "source": [
        "result = classifier(\"The company launched a new marketing campaign\", candidate_labels=[\"marketing\", \"legal\", \"sports\"])"
      ]
    },
    {
      "cell_type": "markdown",
      "source": [],
      "metadata": {
        "id": "b9qVd1x0ekRm"
      },
      "id": "b9qVd1x0ekRm"
    },
    {
      "cell_type": "code",
      "execution_count": null,
      "id": "7b400f19",
      "metadata": {
        "id": "7b400f19"
      },
      "outputs": [],
      "source": [
        "print(result)"
      ]
    },
    {
      "cell_type": "code",
      "execution_count": null,
      "id": "b23ceb49",
      "metadata": {
        "id": "b23ceb49"
      },
      "outputs": [],
      "source": [
        "def get_classification_probabilities(text, candidate_labels):\n",
        "    result = classifier(text, candidate_labels)\n",
        "    probabilities = {label: score for label, score in zip(result['labels'], result['scores'])}\n",
        "    return probabilities"
      ]
    },
    {
      "cell_type": "code",
      "execution_count": null,
      "id": "afecb677",
      "metadata": {
        "id": "afecb677"
      },
      "outputs": [],
      "source": [
        "text = \"\"\"\n",
        "Think smoking makes you look cool. No way. What are you looking at? Hey, Krissie! What? Think smoking makes you look cool.\n",
        "No way. What? Keep on my things, I can't know. I'm jumping now. Always telling us what to do. Or not to do. But we know what's going on.\n",
        " We listen. Like smoking. We don't know the reason it's not to. But out here comes up. That's when we meet the real decision.\n",
        " That's for us. It's not for the smoke. And that's not even the hardest decision out there, my baby. I mean, you know. So how about\n",
        " a little kind of purchase? My parents. They always think I'm not listening. I hear them. Wait a minute. You know, every day you have\n",
        " to do something. You have to deal with stuff on your own. So you want to know why I decided not to smoke. Which reason would you like?\n",
        " I don't need to smoke to prove myself. My coolness is not on trial here. I don't smoke because sometimes it's what you don't do.\n",
        " That makes you who you are. These are the kids that I've seen. They're all cool in different ways. Or a lot of like too.\n",
        " Because you know, we all deal with the same stuff. Same decisions. Like smoking. Forget it. We all came up with the same answer. Not for us. We don't have to smoke to be different. Being ourselves is enough. Hey guys. Now you ask you a couple questions? I've never tried cigarettes. So what? I don't know. I just never wanted to know. Really? Yeah. Someone fresh harder to whatever somebody have a pack at the school. You know, they smoke you know what I mean. And do you think they try to get other people doing it? Yeah. Yeah. But that's dumb though. You see what I'm saying? I mean, the reason I just don't know. They're not dumb, but. That's the reason it's the only thing. I'm not stupid. You're not stupid. Take it easy. Hey you. Me? Yeah. Did you ever try cigarettes? I was 14. Any reason? Because I was trying to be closer to something. Really? Well yeah. So you tried it because other people were doing it? Yeah, I guess. And why don't you do it anymore? A lot of reasons.\n",
        "Just didn't like it, you know? I don't need a smoke to like fit in. Hold up. We finished? Yeah\n",
        "\n",
        "\"\"\""
      ]
    },
    {
      "cell_type": "code",
      "execution_count": null,
      "id": "a16d2262",
      "metadata": {
        "id": "a16d2262"
      },
      "outputs": [],
      "source": [
        "candidate_labels = [\"marketing\", \"legal\", \"health\", \"cartography\"]"
      ]
    },
    {
      "cell_type": "code",
      "execution_count": null,
      "id": "cbb8093e",
      "metadata": {
        "id": "cbb8093e"
      },
      "outputs": [],
      "source": [
        "get_classification_probabilities(text, candidate_labels)"
      ]
    },
    {
      "cell_type": "code",
      "source": [
        "sentiment_analyzer = pipeline(\"sentiment-analysis\", model=\"distilbert-base-uncased-finetuned-sst-2-english\")"
      ],
      "metadata": {
        "id": "6hzMQN7Ac2w4"
      },
      "id": "6hzMQN7Ac2w4",
      "execution_count": null,
      "outputs": []
    },
    {
      "cell_type": "code",
      "source": [
        "# Get sentiment prediction\n",
        "result = sentiment_analyzer(text[:500])"
      ],
      "metadata": {
        "id": "LH82HBJynvOR"
      },
      "id": "LH82HBJynvOR",
      "execution_count": null,
      "outputs": []
    },
    {
      "cell_type": "code",
      "source": [
        "result"
      ],
      "metadata": {
        "id": "Yo57Dok1m3sA"
      },
      "id": "Yo57Dok1m3sA",
      "execution_count": null,
      "outputs": []
    },
    {
      "cell_type": "code",
      "source": [],
      "metadata": {
        "id": "4b9310yun0ic"
      },
      "id": "4b9310yun0ic",
      "execution_count": null,
      "outputs": []
    }
  ],
  "metadata": {
    "kernelspec": {
      "display_name": "Python 3",
      "name": "python3"
    },
    "language_info": {
      "codemirror_mode": {
        "name": "ipython",
        "version": 3
      },
      "file_extension": ".py",
      "mimetype": "text/x-python",
      "name": "python",
      "nbconvert_exporter": "python",
      "pygments_lexer": "ipython3",
      "version": "3.9.7"
    },
    "colab": {
      "provenance": [],
      "gpuType": "T4"
    },
    "accelerator": "GPU"
  },
  "nbformat": 4,
  "nbformat_minor": 5
}